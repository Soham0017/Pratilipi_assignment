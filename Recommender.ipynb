{
 "cells": [
  {
   "cell_type": "code",
   "execution_count": 1,
   "metadata": {
    "_cell_guid": "f4420cb4-f286-494f-9195-c0c3362279fe",
    "_uuid": "e388587d-c328-427f-9b58-1820a61604f5",
    "collapsed": false,
    "jupyter": {
     "outputs_hidden": false
    }
   },
   "outputs": [],
   "source": [
    "import pandas as pd\n",
    "import numpy as np\n",
    "from surprise import Dataset, Reader, SVD, KNNBasic\n",
    "from surprise.model_selection import train_test_split\n",
    "from sklearn.metrics.pairwise import cosine_similarity\n",
    "from sklearn.preprocessing import MinMaxScaler\n",
    "from xgboost import XGBRanker\n",
    "from sklearn.metrics import ndcg_score\n",
    "import pickle\n",
    "from sklearn.neighbors import NearestNeighbors\n",
    "from sklearn.preprocessing import LabelEncoder\n",
    "from sklearn.model_selection import GridSearchCV\n",
    "import warnings\n",
    "warnings.filterwarnings(\"ignore\", category=UserWarning)"
   ]
  },
  {
   "cell_type": "code",
   "execution_count": 2,
   "metadata": {
    "_cell_guid": "c8d18916-564f-4db3-86fd-11b1fad8fcab",
    "_uuid": "68af4b5e-70b5-4f95-8898-417d6c329354",
    "collapsed": false,
    "jupyter": {
     "outputs_hidden": false
    }
   },
   "outputs": [],
   "source": [
    "# Load datasets\n",
    "user_df = pd.read_csv(\"user_interaction.csv\")\n",
    "meta_df = pd.read_csv(\"metadata.csv\")"
   ]
  },
  {
   "cell_type": "code",
   "execution_count": 3,
   "metadata": {
    "_cell_guid": "61b711e6-94fd-4251-8f19-6f9f3e24af3e",
    "_uuid": "cad85ad8-deba-4192-8f9a-b3fa6b37a624",
    "collapsed": false,
    "jupyter": {
     "outputs_hidden": false
    }
   },
   "outputs": [],
   "source": [
    "user_df['updated_at'] =pd.to_datetime(user_df['updated_at'])\n",
    "meta_df['updated_at'] = pd.to_datetime(meta_df['updated_at'])\n",
    "meta_df['published_at'] = pd.to_datetime(meta_df['published_at'])"
   ]
  },
  {
   "cell_type": "code",
   "execution_count": 4,
   "metadata": {
    "_cell_guid": "47f81921-4ac6-40ac-b46b-2e6a42c7ccf4",
    "_uuid": "b02fc589-c5e6-4486-9075-a5661de88130",
    "collapsed": false,
    "jupyter": {
     "outputs_hidden": false
    }
   },
   "outputs": [],
   "source": [
    "# Keep only rows where read_percent is in the valid range (0-100)\n",
    "user_df = user_df[user_df['read_percent'] <= 100]"
   ]
  },
  {
   "cell_type": "markdown",
   "metadata": {
    "_cell_guid": "65a5aa86-9c9c-4456-86a4-d761f60c21a2",
    "_uuid": "033c464e-5086-49dc-bd77-7c2127e5a289",
    "collapsed": false,
    "jupyter": {
     "outputs_hidden": false
    }
   },
   "source": [
    "## Train-Test split"
   ]
  },
  {
   "cell_type": "code",
   "execution_count": 5,
   "metadata": {
    "_cell_guid": "e9c80785-ebdb-454f-b5a4-833dde1378ac",
    "_uuid": "f9ddd700-9c13-4619-971c-f07a01cbf389",
    "collapsed": false,
    "jupyter": {
     "outputs_hidden": false
    }
   },
   "outputs": [],
   "source": [
    "# Time-based Train-Test Split\n",
    "user_df = user_df.sort_values(by=\"updated_at\")\n",
    "split = int(len(user_df) * 0.75)\n",
    "train_interactions = user_df.iloc[ : split]\n",
    "test_interactions = user_df.iloc[split : ]"
   ]
  },
  {
   "cell_type": "markdown",
   "metadata": {
    "_cell_guid": "a525a2c5-75a9-4c41-94ff-746230a1140c",
    "_uuid": "c5d8dedf-eb53-4191-aa1d-5fd9834d5ae3",
    "collapsed": false,
    "jupyter": {
     "outputs_hidden": false
    }
   },
   "source": [
    "## Feature Engineering"
   ]
  },
  {
   "cell_type": "code",
   "execution_count": 6,
   "metadata": {
    "_cell_guid": "2218472d-2aeb-4d5c-942c-265290cc756f",
    "_uuid": "9623ad3a-10e7-4fd2-8c63-8c01f7835014",
    "collapsed": false,
    "jupyter": {
     "outputs_hidden": false
    }
   },
   "outputs": [
    {
     "data": {
      "text/html": [
       "<div>\n",
       "<style scoped>\n",
       "    .dataframe tbody tr th:only-of-type {\n",
       "        vertical-align: middle;\n",
       "    }\n",
       "\n",
       "    .dataframe tbody tr th {\n",
       "        vertical-align: top;\n",
       "    }\n",
       "\n",
       "    .dataframe thead th {\n",
       "        text-align: right;\n",
       "    }\n",
       "</style>\n",
       "<table border=\"1\" class=\"dataframe\">\n",
       "  <thead>\n",
       "    <tr style=\"text-align: right;\">\n",
       "      <th></th>\n",
       "      <th>author_id</th>\n",
       "      <th>pratilipi_id</th>\n",
       "      <th>category_name</th>\n",
       "      <th>reading_time</th>\n",
       "      <th>updated_at</th>\n",
       "      <th>published_at</th>\n",
       "      <th>num_users_read</th>\n",
       "      <th>recency</th>\n",
       "      <th>category_encoded</th>\n",
       "      <th>author_encoded</th>\n",
       "      <th>author_popularity</th>\n",
       "    </tr>\n",
       "  </thead>\n",
       "  <tbody>\n",
       "    <tr>\n",
       "      <th>0</th>\n",
       "      <td>-3418949279741297</td>\n",
       "      <td>1025741862639304</td>\n",
       "      <td>translation</td>\n",
       "      <td>0</td>\n",
       "      <td>2020-08-19 15:26:13</td>\n",
       "      <td>2016-09-30 10:37:04</td>\n",
       "      <td>1943.0</td>\n",
       "      <td>1419.0</td>\n",
       "      <td>42</td>\n",
       "      <td>2288</td>\n",
       "      <td>2</td>\n",
       "    </tr>\n",
       "    <tr>\n",
       "      <th>1</th>\n",
       "      <td>-2270332351871840</td>\n",
       "      <td>1377786215601277</td>\n",
       "      <td>translation</td>\n",
       "      <td>171</td>\n",
       "      <td>2021-01-21 16:27:07</td>\n",
       "      <td>2018-06-11 13:17:48</td>\n",
       "      <td>267.0</td>\n",
       "      <td>955.0</td>\n",
       "      <td>42</td>\n",
       "      <td>7727</td>\n",
       "      <td>3</td>\n",
       "    </tr>\n",
       "    <tr>\n",
       "      <th>2</th>\n",
       "      <td>-2270332352037261</td>\n",
       "      <td>1377786215601962</td>\n",
       "      <td>translation</td>\n",
       "      <td>92</td>\n",
       "      <td>2020-09-29 12:33:57</td>\n",
       "      <td>2018-06-12 04:19:12</td>\n",
       "      <td>9.0</td>\n",
       "      <td>840.0</td>\n",
       "      <td>42</td>\n",
       "      <td>7317</td>\n",
       "      <td>5</td>\n",
       "    </tr>\n",
       "    <tr>\n",
       "      <th>3</th>\n",
       "      <td>-2270332352521845</td>\n",
       "      <td>1377786215640994</td>\n",
       "      <td>translation</td>\n",
       "      <td>0</td>\n",
       "      <td>2019-10-17 09:03:37</td>\n",
       "      <td>2019-09-26 14:58:53</td>\n",
       "      <td>5.0</td>\n",
       "      <td>20.0</td>\n",
       "      <td>42</td>\n",
       "      <td>5575</td>\n",
       "      <td>14</td>\n",
       "    </tr>\n",
       "    <tr>\n",
       "      <th>4</th>\n",
       "      <td>-2270332349665658</td>\n",
       "      <td>1377786215931338</td>\n",
       "      <td>translation</td>\n",
       "      <td>47</td>\n",
       "      <td>2020-05-05 11:33:41</td>\n",
       "      <td>2018-11-25 12:28:23</td>\n",
       "      <td>109.0</td>\n",
       "      <td>526.0</td>\n",
       "      <td>42</td>\n",
       "      <td>13272</td>\n",
       "      <td>22</td>\n",
       "    </tr>\n",
       "  </tbody>\n",
       "</table>\n",
       "</div>"
      ],
      "text/plain": [
       "          author_id      pratilipi_id category_name  reading_time  \\\n",
       "0 -3418949279741297  1025741862639304   translation             0   \n",
       "1 -2270332351871840  1377786215601277   translation           171   \n",
       "2 -2270332352037261  1377786215601962   translation            92   \n",
       "3 -2270332352521845  1377786215640994   translation             0   \n",
       "4 -2270332349665658  1377786215931338   translation            47   \n",
       "\n",
       "           updated_at        published_at  num_users_read  recency  \\\n",
       "0 2020-08-19 15:26:13 2016-09-30 10:37:04          1943.0   1419.0   \n",
       "1 2021-01-21 16:27:07 2018-06-11 13:17:48           267.0    955.0   \n",
       "2 2020-09-29 12:33:57 2018-06-12 04:19:12             9.0    840.0   \n",
       "3 2019-10-17 09:03:37 2019-09-26 14:58:53             5.0     20.0   \n",
       "4 2020-05-05 11:33:41 2018-11-25 12:28:23           109.0    526.0   \n",
       "\n",
       "   category_encoded  author_encoded  author_popularity  \n",
       "0                42            2288                  2  \n",
       "1                42            7727                  3  \n",
       "2                42            7317                  5  \n",
       "3                42            5575                 14  \n",
       "4                42           13272                 22  "
      ]
     },
     "execution_count": 6,
     "metadata": {},
     "output_type": "execute_result"
    }
   ],
   "source": [
    "meta_df[\"num_users_read\"] = user_df.groupby(\"pratilipi_id\")[\"user_id\"].transform(\"count\").fillna(0)\n",
    "meta_df[\"recency\"] = (meta_df[\"updated_at\"] - meta_df[\"published_at\"]).dt.days\n",
    "meta_df[\"category_encoded\"] = meta_df[\"category_name\"].astype(\"category\").cat.codes\n",
    "meta_df[\"author_encoded\"] = meta_df[\"author_id\"].astype(\"category\").cat.codes\n",
    "meta_df[\"author_popularity\"] = meta_df.groupby(\"author_id\")[\"pratilipi_id\"].transform(\"count\").fillna(0)\n",
    "meta_df.head()"
   ]
  },
  {
   "cell_type": "code",
   "execution_count": 7,
   "metadata": {
    "_cell_guid": "e6fa7b84-6c6c-4c91-8d10-326e1fc0b4e8",
    "_uuid": "197937db-a52f-4859-82d6-6e6cf1195826",
    "collapsed": false,
    "jupyter": {
     "outputs_hidden": false
    }
   },
   "outputs": [
    {
     "data": {
      "text/html": [
       "<div>\n",
       "<style scoped>\n",
       "    .dataframe tbody tr th:only-of-type {\n",
       "        vertical-align: middle;\n",
       "    }\n",
       "\n",
       "    .dataframe tbody tr th {\n",
       "        vertical-align: top;\n",
       "    }\n",
       "\n",
       "    .dataframe thead th {\n",
       "        text-align: right;\n",
       "    }\n",
       "</style>\n",
       "<table border=\"1\" class=\"dataframe\">\n",
       "  <thead>\n",
       "    <tr style=\"text-align: right;\">\n",
       "      <th></th>\n",
       "      <th>author_id</th>\n",
       "      <th>pratilipi_id</th>\n",
       "      <th>category_name</th>\n",
       "      <th>reading_time</th>\n",
       "      <th>updated_at</th>\n",
       "      <th>published_at</th>\n",
       "      <th>num_users_read</th>\n",
       "      <th>recency</th>\n",
       "      <th>category_encoded</th>\n",
       "      <th>author_encoded</th>\n",
       "      <th>author_popularity</th>\n",
       "    </tr>\n",
       "  </thead>\n",
       "  <tbody>\n",
       "    <tr>\n",
       "      <th>0</th>\n",
       "      <td>-3418949279741297</td>\n",
       "      <td>1025741862639304</td>\n",
       "      <td>translation</td>\n",
       "      <td>0</td>\n",
       "      <td>2020-08-19 15:26:13</td>\n",
       "      <td>2016-09-30 10:37:04</td>\n",
       "      <td>0.564863</td>\n",
       "      <td>0.551242</td>\n",
       "      <td>42</td>\n",
       "      <td>2288</td>\n",
       "      <td>0.000115</td>\n",
       "    </tr>\n",
       "    <tr>\n",
       "      <th>1</th>\n",
       "      <td>-2270332351871840</td>\n",
       "      <td>1377786215601277</td>\n",
       "      <td>translation</td>\n",
       "      <td>171</td>\n",
       "      <td>2021-01-21 16:27:07</td>\n",
       "      <td>2018-06-11 13:17:48</td>\n",
       "      <td>0.077371</td>\n",
       "      <td>0.371118</td>\n",
       "      <td>42</td>\n",
       "      <td>7727</td>\n",
       "      <td>0.000229</td>\n",
       "    </tr>\n",
       "    <tr>\n",
       "      <th>2</th>\n",
       "      <td>-2270332352037261</td>\n",
       "      <td>1377786215601962</td>\n",
       "      <td>translation</td>\n",
       "      <td>92</td>\n",
       "      <td>2020-09-29 12:33:57</td>\n",
       "      <td>2018-06-12 04:19:12</td>\n",
       "      <td>0.002327</td>\n",
       "      <td>0.326475</td>\n",
       "      <td>42</td>\n",
       "      <td>7317</td>\n",
       "      <td>0.000459</td>\n",
       "    </tr>\n",
       "    <tr>\n",
       "      <th>3</th>\n",
       "      <td>-2270332352521845</td>\n",
       "      <td>1377786215640994</td>\n",
       "      <td>translation</td>\n",
       "      <td>0</td>\n",
       "      <td>2019-10-17 09:03:37</td>\n",
       "      <td>2019-09-26 14:58:53</td>\n",
       "      <td>0.001163</td>\n",
       "      <td>0.008152</td>\n",
       "      <td>42</td>\n",
       "      <td>5575</td>\n",
       "      <td>0.001490</td>\n",
       "    </tr>\n",
       "    <tr>\n",
       "      <th>4</th>\n",
       "      <td>-2270332349665658</td>\n",
       "      <td>1377786215931338</td>\n",
       "      <td>translation</td>\n",
       "      <td>47</td>\n",
       "      <td>2020-05-05 11:33:41</td>\n",
       "      <td>2018-11-25 12:28:23</td>\n",
       "      <td>0.031414</td>\n",
       "      <td>0.204581</td>\n",
       "      <td>42</td>\n",
       "      <td>13272</td>\n",
       "      <td>0.002407</td>\n",
       "    </tr>\n",
       "  </tbody>\n",
       "</table>\n",
       "</div>"
      ],
      "text/plain": [
       "          author_id      pratilipi_id category_name  reading_time  \\\n",
       "0 -3418949279741297  1025741862639304   translation             0   \n",
       "1 -2270332351871840  1377786215601277   translation           171   \n",
       "2 -2270332352037261  1377786215601962   translation            92   \n",
       "3 -2270332352521845  1377786215640994   translation             0   \n",
       "4 -2270332349665658  1377786215931338   translation            47   \n",
       "\n",
       "           updated_at        published_at  num_users_read   recency  \\\n",
       "0 2020-08-19 15:26:13 2016-09-30 10:37:04        0.564863  0.551242   \n",
       "1 2021-01-21 16:27:07 2018-06-11 13:17:48        0.077371  0.371118   \n",
       "2 2020-09-29 12:33:57 2018-06-12 04:19:12        0.002327  0.326475   \n",
       "3 2019-10-17 09:03:37 2019-09-26 14:58:53        0.001163  0.008152   \n",
       "4 2020-05-05 11:33:41 2018-11-25 12:28:23        0.031414  0.204581   \n",
       "\n",
       "   category_encoded  author_encoded  author_popularity  \n",
       "0                42            2288           0.000115  \n",
       "1                42            7727           0.000229  \n",
       "2                42            7317           0.000459  \n",
       "3                42            5575           0.001490  \n",
       "4                42           13272           0.002407  "
      ]
     },
     "execution_count": 7,
     "metadata": {},
     "output_type": "execute_result"
    }
   ],
   "source": [
    "# Normalize Features\n",
    "scaler = MinMaxScaler()\n",
    "meta_df[[\"num_users_read\", \"recency\", \"author_popularity\"]] = scaler.fit_transform(meta_df[[\"num_users_read\", \"recency\", \"author_popularity\"]])\n",
    "meta_df.head()"
   ]
  },
  {
   "cell_type": "markdown",
   "metadata": {
    "_cell_guid": "20b4b8f6-5531-4197-be8a-50879d438118",
    "_uuid": "deb0975f-68be-453f-bbf9-b7e2887e165d",
    "collapsed": false,
    "jupyter": {
     "outputs_hidden": false
    }
   },
   "source": [
    "# Evaluation Metrices"
   ]
  },
  {
   "cell_type": "code",
   "execution_count": 8,
   "metadata": {
    "_cell_guid": "ac9ec9f3-ad60-4ace-bfec-aba4e08b9a7b",
    "_uuid": "366fcd6b-9d9b-4baf-96b0-9a98cbea6581",
    "collapsed": false,
    "jupyter": {
     "outputs_hidden": false
    }
   },
   "outputs": [],
   "source": [
    "def precision_at_k(recommendations, ground_truth, k=5):\n",
    "    precision = 0\n",
    "    if recommendations:\n",
    "        precision = len(set(recommendations[:k]) & set(ground_truth)) / k\n",
    "    return precision"
   ]
  },
  {
   "cell_type": "code",
   "execution_count": 9,
   "metadata": {
    "_cell_guid": "30a179e7-5462-4c90-a7a8-0955214619a9",
    "_uuid": "11a9b968-1938-4c2e-a7c1-182cb8f7fd3d",
    "collapsed": false,
    "jupyter": {
     "outputs_hidden": false
    }
   },
   "outputs": [],
   "source": [
    "def recall_at_k(recommendations, ground_truth, k=5):\n",
    "    recall = 0\n",
    "    if ground_truth:\n",
    "        recall = len(set(recommendations[:k]) & set(ground_truth)) / len(ground_truth)\n",
    "    return recall"
   ]
  },
  {
   "cell_type": "code",
   "execution_count": 10,
   "metadata": {
    "_cell_guid": "04841bf8-981f-435b-b1d1-f9abd8e85367",
    "_uuid": "76548555-6eed-4938-8601-c76e13e026b1",
    "collapsed": false,
    "jupyter": {
     "outputs_hidden": false
    }
   },
   "outputs": [],
   "source": [
    "def ndcg_at_k(recommendations, ground_truth, k=5):\n",
    "    if not ground_truth:\n",
    "        return 0\n",
    "\n",
    "    # relevance score list for the ground truth\n",
    "    relevance = [1 if item in ground_truth else 0 for item in recommendations[:k]]\n",
    "    \n",
    "    # Ensure ground_truth is a list of relevance scores\n",
    "    true_relevance = [1 if item in ground_truth else 0 for item in recommendations]\n",
    "\n",
    "    if not relevance or not true_relevance:\n",
    "        return 0\n",
    "\n",
    "    return ndcg_score([true_relevance], [relevance], k=k)"
   ]
  },
  {
   "cell_type": "code",
   "execution_count": 11,
   "metadata": {
    "_cell_guid": "ecb700e5-af33-41c3-9449-1e35fb4d4c38",
    "_uuid": "3fc489da-8234-43fc-8326-f524f6981059",
    "collapsed": false,
    "jupyter": {
     "outputs_hidden": false
    }
   },
   "outputs": [],
   "source": [
    "# Evaluates how early first relevant item appears\n",
    "def mrr(recommendations, ground_truth):\n",
    "    for rank, item in enumerate(recommendations, start=1):\n",
    "        if item in ground_truth:\n",
    "            return 1 / rank\n",
    "    return 0"
   ]
  },
  {
   "cell_type": "markdown",
   "metadata": {
    "_cell_guid": "3cee1ebc-0c38-4560-87eb-b778bef093d4",
    "_uuid": "f27b1dda-dff2-4202-88d6-4315d3b05db9",
    "collapsed": false,
    "jupyter": {
     "outputs_hidden": false
    }
   },
   "source": [
    "# Popularity based Model (mostly for new users)"
   ]
  },
  {
   "cell_type": "code",
   "execution_count": 12,
   "metadata": {
    "_cell_guid": "88babad6-14a4-4740-9192-93d7feb7d78f",
    "_uuid": "c89fead2-a42e-4752-adb0-40eb5d71f4e0",
    "collapsed": false,
    "jupyter": {
     "outputs_hidden": false
    }
   },
   "outputs": [],
   "source": [
    "def recommend_popular(user_id, n=5):\n",
    "    # find all pratilipis\n",
    "    user_categories = train_interactions[train_interactions['user_id'] == user_id]['pratilipi_id']\n",
    "    \n",
    "    if user_categories.empty:\n",
    "        return meta_df.sort_values(by=['num_users_read', 'author_popularity'], ascending=False)['pratilipi_id'].head(n).tolist()\n",
    "        \n",
    "    # find top 3 categories that user read\n",
    "    top_categories = meta_df[meta_df['pratilipi_id'].isin(user_categories)][\"category_name\"].value_counts().index[:3]\n",
    "    return meta_df[meta_df[\"category_name\"].isin(top_categories)].sort_values(by=['num_users_read', 'author_popularity'], ascending=False)['pratilipi_id'].head(n).tolist()"
   ]
  },
  {
   "cell_type": "markdown",
   "metadata": {
    "_cell_guid": "0b186c0a-9f5f-453f-9925-cff2ec065f0c",
    "_uuid": "32f4d341-c4d9-480d-b348-3a684f05d0cd",
    "collapsed": false,
    "jupyter": {
     "outputs_hidden": false
    }
   },
   "source": [
    "## Collaborative filtering (SVD)"
   ]
  },
  {
   "cell_type": "code",
   "execution_count": 13,
   "metadata": {
    "_cell_guid": "dd4eef7b-5552-4158-8152-390c141ce09b",
    "_uuid": "f74e4aa3-438d-4198-a368-6e732afc2857",
    "collapsed": false,
    "jupyter": {
     "outputs_hidden": false
    }
   },
   "outputs": [],
   "source": [
    "# Define reader for Surprise library\n",
    "reader = Reader(rating_scale=(0, 100))\n",
    "data = Dataset.load_from_df(train_interactions[['user_id', 'pratilipi_id', 'read_percent']], reader)\n",
    "trainset = data.build_full_trainset()"
   ]
  },
  {
   "cell_type": "code",
   "execution_count": 14,
   "metadata": {
    "_cell_guid": "ad44034d-f7fb-4b00-a2da-bb7b4023d572",
    "_uuid": "a83fab6f-88ce-4180-9f8c-5d45c0f7cf40",
    "collapsed": false,
    "jupyter": {
     "outputs_hidden": false
    }
   },
   "outputs": [
    {
     "data": {
      "text/plain": [
       "<surprise.prediction_algorithms.matrix_factorization.SVD at 0x248150ee5d0>"
      ]
     },
     "execution_count": 14,
     "metadata": {},
     "output_type": "execute_result"
    }
   ],
   "source": [
    "# Train Collaborative Filtering Model\n",
    "svd_model = SVD()\n",
    "svd_model.fit(trainset)"
   ]
  },
  {
   "cell_type": "code",
   "execution_count": 15,
   "metadata": {
    "_cell_guid": "99e3be34-abe7-456c-9e8a-8c51732817b7",
    "_uuid": "16dfda7c-9fed-42fe-a7b5-183b972a8719",
    "collapsed": false,
    "jupyter": {
     "outputs_hidden": false
    }
   },
   "outputs": [],
   "source": [
    "# Extract User and Item Embeddings\n",
    "user_factors = pd.DataFrame(svd_model.pu, index=[trainset.to_raw_uid(i) for i in range(len(svd_model.pu))])\n",
    "item_factors = pd.DataFrame(svd_model.qi, index=[trainset.to_raw_iid(i) for i in range(len(svd_model.qi))])"
   ]
  },
  {
   "cell_type": "code",
   "execution_count": 16,
   "metadata": {},
   "outputs": [],
   "source": [
    "all_items = set(meta_df['pratilipi_id'])"
   ]
  },
  {
   "cell_type": "code",
   "execution_count": 17,
   "metadata": {},
   "outputs": [],
   "source": [
    "def recommend_svd(user_id, n=5):\n",
    "    \n",
    "    user_items = set(train_interactions[train_interactions['user_id'] == user_id]['pratilipi_id'])\n",
    "    items_to_predict = list(all_items - user_items)\n",
    "    \n",
    "    predictions = []\n",
    "    for item_id in items_to_predict:\n",
    "        try:\n",
    "            pred = svd_model.predict(str(user_id), str(item_id)).est\n",
    "            predictions.append((item_id, pred))\n",
    "        except:\n",
    "            continue\n",
    "    \n",
    "    # top n predictions\n",
    "    predictions.sort(key=lambda x: x[1], reverse=True)\n",
    "    return [x[0] for x in predictions[:n]]"
   ]
  },
  {
   "cell_type": "code",
   "execution_count": 18,
   "metadata": {
    "_cell_guid": "ce010805-003b-425c-83d0-74787de00201",
    "_uuid": "997b3bfd-974b-4cbb-9087-e056e7ab4001",
    "collapsed": false,
    "jupyter": {
     "outputs_hidden": false
    }
   },
   "outputs": [],
   "source": [
    "# SVD-Based Collaborative Filtering\n",
    "def recommend_svd(user_id, n=5):\n",
    "    predictions = [svd_model.predict(user_id, pid) for pid in meta_df['pratilipi_id']]\n",
    "    top_predictions = sorted(predictions, key=lambda x: x.est, reverse=True)[:n]\n",
    "    return [pred.iid for pred in top_predictions]"
   ]
  },
  {
   "cell_type": "markdown",
   "metadata": {
    "_cell_guid": "261e3ca8-9c37-492a-9052-47b820baa28b",
    "_uuid": "ebddb47c-4df1-4ae4-9c62-c5d78a063100",
    "collapsed": false,
    "jupyter": {
     "outputs_hidden": false
    }
   },
   "source": [
    "## Content based Filtering (Metadata)"
   ]
  },
  {
   "cell_type": "code",
   "execution_count": 19,
   "metadata": {
    "_cell_guid": "a909a12e-1f37-407f-9e8b-f2f0c4d1494b",
    "_uuid": "6d332720-6cf9-4035-bfe5-c6ebde3006d6",
    "collapsed": false,
    "jupyter": {
     "outputs_hidden": false
    }
   },
   "outputs": [
    {
     "data": {
      "text/html": [
       "<style>#sk-container-id-1 {\n",
       "  /* Definition of color scheme common for light and dark mode */\n",
       "  --sklearn-color-text: #000;\n",
       "  --sklearn-color-text-muted: #666;\n",
       "  --sklearn-color-line: gray;\n",
       "  /* Definition of color scheme for unfitted estimators */\n",
       "  --sklearn-color-unfitted-level-0: #fff5e6;\n",
       "  --sklearn-color-unfitted-level-1: #f6e4d2;\n",
       "  --sklearn-color-unfitted-level-2: #ffe0b3;\n",
       "  --sklearn-color-unfitted-level-3: chocolate;\n",
       "  /* Definition of color scheme for fitted estimators */\n",
       "  --sklearn-color-fitted-level-0: #f0f8ff;\n",
       "  --sklearn-color-fitted-level-1: #d4ebff;\n",
       "  --sklearn-color-fitted-level-2: #b3dbfd;\n",
       "  --sklearn-color-fitted-level-3: cornflowerblue;\n",
       "\n",
       "  /* Specific color for light theme */\n",
       "  --sklearn-color-text-on-default-background: var(--sg-text-color, var(--theme-code-foreground, var(--jp-content-font-color1, black)));\n",
       "  --sklearn-color-background: var(--sg-background-color, var(--theme-background, var(--jp-layout-color0, white)));\n",
       "  --sklearn-color-border-box: var(--sg-text-color, var(--theme-code-foreground, var(--jp-content-font-color1, black)));\n",
       "  --sklearn-color-icon: #696969;\n",
       "\n",
       "  @media (prefers-color-scheme: dark) {\n",
       "    /* Redefinition of color scheme for dark theme */\n",
       "    --sklearn-color-text-on-default-background: var(--sg-text-color, var(--theme-code-foreground, var(--jp-content-font-color1, white)));\n",
       "    --sklearn-color-background: var(--sg-background-color, var(--theme-background, var(--jp-layout-color0, #111)));\n",
       "    --sklearn-color-border-box: var(--sg-text-color, var(--theme-code-foreground, var(--jp-content-font-color1, white)));\n",
       "    --sklearn-color-icon: #878787;\n",
       "  }\n",
       "}\n",
       "\n",
       "#sk-container-id-1 {\n",
       "  color: var(--sklearn-color-text);\n",
       "}\n",
       "\n",
       "#sk-container-id-1 pre {\n",
       "  padding: 0;\n",
       "}\n",
       "\n",
       "#sk-container-id-1 input.sk-hidden--visually {\n",
       "  border: 0;\n",
       "  clip: rect(1px 1px 1px 1px);\n",
       "  clip: rect(1px, 1px, 1px, 1px);\n",
       "  height: 1px;\n",
       "  margin: -1px;\n",
       "  overflow: hidden;\n",
       "  padding: 0;\n",
       "  position: absolute;\n",
       "  width: 1px;\n",
       "}\n",
       "\n",
       "#sk-container-id-1 div.sk-dashed-wrapped {\n",
       "  border: 1px dashed var(--sklearn-color-line);\n",
       "  margin: 0 0.4em 0.5em 0.4em;\n",
       "  box-sizing: border-box;\n",
       "  padding-bottom: 0.4em;\n",
       "  background-color: var(--sklearn-color-background);\n",
       "}\n",
       "\n",
       "#sk-container-id-1 div.sk-container {\n",
       "  /* jupyter's `normalize.less` sets `[hidden] { display: none; }`\n",
       "     but bootstrap.min.css set `[hidden] { display: none !important; }`\n",
       "     so we also need the `!important` here to be able to override the\n",
       "     default hidden behavior on the sphinx rendered scikit-learn.org.\n",
       "     See: https://github.com/scikit-learn/scikit-learn/issues/21755 */\n",
       "  display: inline-block !important;\n",
       "  position: relative;\n",
       "}\n",
       "\n",
       "#sk-container-id-1 div.sk-text-repr-fallback {\n",
       "  display: none;\n",
       "}\n",
       "\n",
       "div.sk-parallel-item,\n",
       "div.sk-serial,\n",
       "div.sk-item {\n",
       "  /* draw centered vertical line to link estimators */\n",
       "  background-image: linear-gradient(var(--sklearn-color-text-on-default-background), var(--sklearn-color-text-on-default-background));\n",
       "  background-size: 2px 100%;\n",
       "  background-repeat: no-repeat;\n",
       "  background-position: center center;\n",
       "}\n",
       "\n",
       "/* Parallel-specific style estimator block */\n",
       "\n",
       "#sk-container-id-1 div.sk-parallel-item::after {\n",
       "  content: \"\";\n",
       "  width: 100%;\n",
       "  border-bottom: 2px solid var(--sklearn-color-text-on-default-background);\n",
       "  flex-grow: 1;\n",
       "}\n",
       "\n",
       "#sk-container-id-1 div.sk-parallel {\n",
       "  display: flex;\n",
       "  align-items: stretch;\n",
       "  justify-content: center;\n",
       "  background-color: var(--sklearn-color-background);\n",
       "  position: relative;\n",
       "}\n",
       "\n",
       "#sk-container-id-1 div.sk-parallel-item {\n",
       "  display: flex;\n",
       "  flex-direction: column;\n",
       "}\n",
       "\n",
       "#sk-container-id-1 div.sk-parallel-item:first-child::after {\n",
       "  align-self: flex-end;\n",
       "  width: 50%;\n",
       "}\n",
       "\n",
       "#sk-container-id-1 div.sk-parallel-item:last-child::after {\n",
       "  align-self: flex-start;\n",
       "  width: 50%;\n",
       "}\n",
       "\n",
       "#sk-container-id-1 div.sk-parallel-item:only-child::after {\n",
       "  width: 0;\n",
       "}\n",
       "\n",
       "/* Serial-specific style estimator block */\n",
       "\n",
       "#sk-container-id-1 div.sk-serial {\n",
       "  display: flex;\n",
       "  flex-direction: column;\n",
       "  align-items: center;\n",
       "  background-color: var(--sklearn-color-background);\n",
       "  padding-right: 1em;\n",
       "  padding-left: 1em;\n",
       "}\n",
       "\n",
       "\n",
       "/* Toggleable style: style used for estimator/Pipeline/ColumnTransformer box that is\n",
       "clickable and can be expanded/collapsed.\n",
       "- Pipeline and ColumnTransformer use this feature and define the default style\n",
       "- Estimators will overwrite some part of the style using the `sk-estimator` class\n",
       "*/\n",
       "\n",
       "/* Pipeline and ColumnTransformer style (default) */\n",
       "\n",
       "#sk-container-id-1 div.sk-toggleable {\n",
       "  /* Default theme specific background. It is overwritten whether we have a\n",
       "  specific estimator or a Pipeline/ColumnTransformer */\n",
       "  background-color: var(--sklearn-color-background);\n",
       "}\n",
       "\n",
       "/* Toggleable label */\n",
       "#sk-container-id-1 label.sk-toggleable__label {\n",
       "  cursor: pointer;\n",
       "  display: flex;\n",
       "  width: 100%;\n",
       "  margin-bottom: 0;\n",
       "  padding: 0.5em;\n",
       "  box-sizing: border-box;\n",
       "  text-align: center;\n",
       "  align-items: start;\n",
       "  justify-content: space-between;\n",
       "  gap: 0.5em;\n",
       "}\n",
       "\n",
       "#sk-container-id-1 label.sk-toggleable__label .caption {\n",
       "  font-size: 0.6rem;\n",
       "  font-weight: lighter;\n",
       "  color: var(--sklearn-color-text-muted);\n",
       "}\n",
       "\n",
       "#sk-container-id-1 label.sk-toggleable__label-arrow:before {\n",
       "  /* Arrow on the left of the label */\n",
       "  content: \"▸\";\n",
       "  float: left;\n",
       "  margin-right: 0.25em;\n",
       "  color: var(--sklearn-color-icon);\n",
       "}\n",
       "\n",
       "#sk-container-id-1 label.sk-toggleable__label-arrow:hover:before {\n",
       "  color: var(--sklearn-color-text);\n",
       "}\n",
       "\n",
       "/* Toggleable content - dropdown */\n",
       "\n",
       "#sk-container-id-1 div.sk-toggleable__content {\n",
       "  max-height: 0;\n",
       "  max-width: 0;\n",
       "  overflow: hidden;\n",
       "  text-align: left;\n",
       "  /* unfitted */\n",
       "  background-color: var(--sklearn-color-unfitted-level-0);\n",
       "}\n",
       "\n",
       "#sk-container-id-1 div.sk-toggleable__content.fitted {\n",
       "  /* fitted */\n",
       "  background-color: var(--sklearn-color-fitted-level-0);\n",
       "}\n",
       "\n",
       "#sk-container-id-1 div.sk-toggleable__content pre {\n",
       "  margin: 0.2em;\n",
       "  border-radius: 0.25em;\n",
       "  color: var(--sklearn-color-text);\n",
       "  /* unfitted */\n",
       "  background-color: var(--sklearn-color-unfitted-level-0);\n",
       "}\n",
       "\n",
       "#sk-container-id-1 div.sk-toggleable__content.fitted pre {\n",
       "  /* unfitted */\n",
       "  background-color: var(--sklearn-color-fitted-level-0);\n",
       "}\n",
       "\n",
       "#sk-container-id-1 input.sk-toggleable__control:checked~div.sk-toggleable__content {\n",
       "  /* Expand drop-down */\n",
       "  max-height: 200px;\n",
       "  max-width: 100%;\n",
       "  overflow: auto;\n",
       "}\n",
       "\n",
       "#sk-container-id-1 input.sk-toggleable__control:checked~label.sk-toggleable__label-arrow:before {\n",
       "  content: \"▾\";\n",
       "}\n",
       "\n",
       "/* Pipeline/ColumnTransformer-specific style */\n",
       "\n",
       "#sk-container-id-1 div.sk-label input.sk-toggleable__control:checked~label.sk-toggleable__label {\n",
       "  color: var(--sklearn-color-text);\n",
       "  background-color: var(--sklearn-color-unfitted-level-2);\n",
       "}\n",
       "\n",
       "#sk-container-id-1 div.sk-label.fitted input.sk-toggleable__control:checked~label.sk-toggleable__label {\n",
       "  background-color: var(--sklearn-color-fitted-level-2);\n",
       "}\n",
       "\n",
       "/* Estimator-specific style */\n",
       "\n",
       "/* Colorize estimator box */\n",
       "#sk-container-id-1 div.sk-estimator input.sk-toggleable__control:checked~label.sk-toggleable__label {\n",
       "  /* unfitted */\n",
       "  background-color: var(--sklearn-color-unfitted-level-2);\n",
       "}\n",
       "\n",
       "#sk-container-id-1 div.sk-estimator.fitted input.sk-toggleable__control:checked~label.sk-toggleable__label {\n",
       "  /* fitted */\n",
       "  background-color: var(--sklearn-color-fitted-level-2);\n",
       "}\n",
       "\n",
       "#sk-container-id-1 div.sk-label label.sk-toggleable__label,\n",
       "#sk-container-id-1 div.sk-label label {\n",
       "  /* The background is the default theme color */\n",
       "  color: var(--sklearn-color-text-on-default-background);\n",
       "}\n",
       "\n",
       "/* On hover, darken the color of the background */\n",
       "#sk-container-id-1 div.sk-label:hover label.sk-toggleable__label {\n",
       "  color: var(--sklearn-color-text);\n",
       "  background-color: var(--sklearn-color-unfitted-level-2);\n",
       "}\n",
       "\n",
       "/* Label box, darken color on hover, fitted */\n",
       "#sk-container-id-1 div.sk-label.fitted:hover label.sk-toggleable__label.fitted {\n",
       "  color: var(--sklearn-color-text);\n",
       "  background-color: var(--sklearn-color-fitted-level-2);\n",
       "}\n",
       "\n",
       "/* Estimator label */\n",
       "\n",
       "#sk-container-id-1 div.sk-label label {\n",
       "  font-family: monospace;\n",
       "  font-weight: bold;\n",
       "  display: inline-block;\n",
       "  line-height: 1.2em;\n",
       "}\n",
       "\n",
       "#sk-container-id-1 div.sk-label-container {\n",
       "  text-align: center;\n",
       "}\n",
       "\n",
       "/* Estimator-specific */\n",
       "#sk-container-id-1 div.sk-estimator {\n",
       "  font-family: monospace;\n",
       "  border: 1px dotted var(--sklearn-color-border-box);\n",
       "  border-radius: 0.25em;\n",
       "  box-sizing: border-box;\n",
       "  margin-bottom: 0.5em;\n",
       "  /* unfitted */\n",
       "  background-color: var(--sklearn-color-unfitted-level-0);\n",
       "}\n",
       "\n",
       "#sk-container-id-1 div.sk-estimator.fitted {\n",
       "  /* fitted */\n",
       "  background-color: var(--sklearn-color-fitted-level-0);\n",
       "}\n",
       "\n",
       "/* on hover */\n",
       "#sk-container-id-1 div.sk-estimator:hover {\n",
       "  /* unfitted */\n",
       "  background-color: var(--sklearn-color-unfitted-level-2);\n",
       "}\n",
       "\n",
       "#sk-container-id-1 div.sk-estimator.fitted:hover {\n",
       "  /* fitted */\n",
       "  background-color: var(--sklearn-color-fitted-level-2);\n",
       "}\n",
       "\n",
       "/* Specification for estimator info (e.g. \"i\" and \"?\") */\n",
       "\n",
       "/* Common style for \"i\" and \"?\" */\n",
       "\n",
       ".sk-estimator-doc-link,\n",
       "a:link.sk-estimator-doc-link,\n",
       "a:visited.sk-estimator-doc-link {\n",
       "  float: right;\n",
       "  font-size: smaller;\n",
       "  line-height: 1em;\n",
       "  font-family: monospace;\n",
       "  background-color: var(--sklearn-color-background);\n",
       "  border-radius: 1em;\n",
       "  height: 1em;\n",
       "  width: 1em;\n",
       "  text-decoration: none !important;\n",
       "  margin-left: 0.5em;\n",
       "  text-align: center;\n",
       "  /* unfitted */\n",
       "  border: var(--sklearn-color-unfitted-level-1) 1pt solid;\n",
       "  color: var(--sklearn-color-unfitted-level-1);\n",
       "}\n",
       "\n",
       ".sk-estimator-doc-link.fitted,\n",
       "a:link.sk-estimator-doc-link.fitted,\n",
       "a:visited.sk-estimator-doc-link.fitted {\n",
       "  /* fitted */\n",
       "  border: var(--sklearn-color-fitted-level-1) 1pt solid;\n",
       "  color: var(--sklearn-color-fitted-level-1);\n",
       "}\n",
       "\n",
       "/* On hover */\n",
       "div.sk-estimator:hover .sk-estimator-doc-link:hover,\n",
       ".sk-estimator-doc-link:hover,\n",
       "div.sk-label-container:hover .sk-estimator-doc-link:hover,\n",
       ".sk-estimator-doc-link:hover {\n",
       "  /* unfitted */\n",
       "  background-color: var(--sklearn-color-unfitted-level-3);\n",
       "  color: var(--sklearn-color-background);\n",
       "  text-decoration: none;\n",
       "}\n",
       "\n",
       "div.sk-estimator.fitted:hover .sk-estimator-doc-link.fitted:hover,\n",
       ".sk-estimator-doc-link.fitted:hover,\n",
       "div.sk-label-container:hover .sk-estimator-doc-link.fitted:hover,\n",
       ".sk-estimator-doc-link.fitted:hover {\n",
       "  /* fitted */\n",
       "  background-color: var(--sklearn-color-fitted-level-3);\n",
       "  color: var(--sklearn-color-background);\n",
       "  text-decoration: none;\n",
       "}\n",
       "\n",
       "/* Span, style for the box shown on hovering the info icon */\n",
       ".sk-estimator-doc-link span {\n",
       "  display: none;\n",
       "  z-index: 9999;\n",
       "  position: relative;\n",
       "  font-weight: normal;\n",
       "  right: .2ex;\n",
       "  padding: .5ex;\n",
       "  margin: .5ex;\n",
       "  width: min-content;\n",
       "  min-width: 20ex;\n",
       "  max-width: 50ex;\n",
       "  color: var(--sklearn-color-text);\n",
       "  box-shadow: 2pt 2pt 4pt #999;\n",
       "  /* unfitted */\n",
       "  background: var(--sklearn-color-unfitted-level-0);\n",
       "  border: .5pt solid var(--sklearn-color-unfitted-level-3);\n",
       "}\n",
       "\n",
       ".sk-estimator-doc-link.fitted span {\n",
       "  /* fitted */\n",
       "  background: var(--sklearn-color-fitted-level-0);\n",
       "  border: var(--sklearn-color-fitted-level-3);\n",
       "}\n",
       "\n",
       ".sk-estimator-doc-link:hover span {\n",
       "  display: block;\n",
       "}\n",
       "\n",
       "/* \"?\"-specific style due to the `<a>` HTML tag */\n",
       "\n",
       "#sk-container-id-1 a.estimator_doc_link {\n",
       "  float: right;\n",
       "  font-size: 1rem;\n",
       "  line-height: 1em;\n",
       "  font-family: monospace;\n",
       "  background-color: var(--sklearn-color-background);\n",
       "  border-radius: 1rem;\n",
       "  height: 1rem;\n",
       "  width: 1rem;\n",
       "  text-decoration: none;\n",
       "  /* unfitted */\n",
       "  color: var(--sklearn-color-unfitted-level-1);\n",
       "  border: var(--sklearn-color-unfitted-level-1) 1pt solid;\n",
       "}\n",
       "\n",
       "#sk-container-id-1 a.estimator_doc_link.fitted {\n",
       "  /* fitted */\n",
       "  border: var(--sklearn-color-fitted-level-1) 1pt solid;\n",
       "  color: var(--sklearn-color-fitted-level-1);\n",
       "}\n",
       "\n",
       "/* On hover */\n",
       "#sk-container-id-1 a.estimator_doc_link:hover {\n",
       "  /* unfitted */\n",
       "  background-color: var(--sklearn-color-unfitted-level-3);\n",
       "  color: var(--sklearn-color-background);\n",
       "  text-decoration: none;\n",
       "}\n",
       "\n",
       "#sk-container-id-1 a.estimator_doc_link.fitted:hover {\n",
       "  /* fitted */\n",
       "  background-color: var(--sklearn-color-fitted-level-3);\n",
       "}\n",
       "</style><div id=\"sk-container-id-1\" class=\"sk-top-container\"><div class=\"sk-text-repr-fallback\"><pre>NearestNeighbors(algorithm=&#x27;brute&#x27;, metric=&#x27;cosine&#x27;, n_neighbors=10)</pre><b>In a Jupyter environment, please rerun this cell to show the HTML representation or trust the notebook. <br />On GitHub, the HTML representation is unable to render, please try loading this page with nbviewer.org.</b></div><div class=\"sk-container\" hidden><div class=\"sk-item\"><div class=\"sk-estimator fitted sk-toggleable\"><input class=\"sk-toggleable__control sk-hidden--visually\" id=\"sk-estimator-id-1\" type=\"checkbox\" checked><label for=\"sk-estimator-id-1\" class=\"sk-toggleable__label fitted sk-toggleable__label-arrow\"><div><div>NearestNeighbors</div></div><div><a class=\"sk-estimator-doc-link fitted\" rel=\"noreferrer\" target=\"_blank\" href=\"https://scikit-learn.org/1.6/modules/generated/sklearn.neighbors.NearestNeighbors.html\">?<span>Documentation for NearestNeighbors</span></a><span class=\"sk-estimator-doc-link fitted\">i<span>Fitted</span></span></div></label><div class=\"sk-toggleable__content fitted\"><pre>NearestNeighbors(algorithm=&#x27;brute&#x27;, metric=&#x27;cosine&#x27;, n_neighbors=10)</pre></div> </div></div></div></div>"
      ],
      "text/plain": [
       "NearestNeighbors(algorithm='brute', metric='cosine', n_neighbors=10)"
      ]
     },
     "execution_count": 19,
     "metadata": {},
     "output_type": "execute_result"
    }
   ],
   "source": [
    "#feature_matrix = meta_df[[\"category_encoded\", \"author_encoded\", \"num_users_read\", \"recency\", \"author_popularity\"]]\n",
    "feature_matrix = meta_df[[\"category_encoded\", \"author_encoded\", \"num_users_read\", \"author_popularity\"]]\n",
    "feature_matrix = feature_matrix.fillna(0)\n",
    "\n",
    "# Nearest Neighbors with cosine distance\n",
    "knn_model = NearestNeighbors(metric=\"cosine\", algorithm=\"brute\", n_neighbors=10)\n",
    "knn_model.fit(feature_matrix)"
   ]
  },
  {
   "cell_type": "code",
   "execution_count": 20,
   "metadata": {
    "_cell_guid": "ec1fda13-26d7-439d-bab4-c704a0c6e152",
    "_uuid": "59163081-e07c-4e2c-8d6b-d6bf1991602b",
    "collapsed": false,
    "jupyter": {
     "outputs_hidden": false
    }
   },
   "outputs": [],
   "source": [
    "def recommend_content(user_id, n=5):\n",
    "        # pratilipis the user has interacted with\n",
    "    user_interactions = train_interactions[train_interactions['user_id'] == user_id]['pratilipi_id'].tolist()\n",
    "    \n",
    "    # cold-start users (no prior interactions)\n",
    "    if not user_interactions:\n",
    "        return meta_df[\"pratilipi_id\"].sample(n).tolist()\n",
    "    \n",
    "    recommended_pratilipis = set()\n",
    "    \n",
    "    for pratilipi_id in user_interactions:\n",
    "        \n",
    "        if pratilipi_id not in meta_df[\"pratilipi_id\"].values:\n",
    "            continue\n",
    "        idx = meta_df.index[meta_df[\"pratilipi_id\"] == pratilipi_id].tolist()[0]\n",
    "        \n",
    "        # top similar pratilipis using KNN\n",
    "        distances, indices = knn_model.kneighbors([feature_matrix.iloc[idx]], n_neighbors=n+1)\n",
    "        \n",
    "        for i in indices[0][1:]:\n",
    "            recommended_pratilipis.add(meta_df.iloc[i][\"pratilipi_id\"])\n",
    "    \n",
    "    # top-N unique recommendations\n",
    "    return list(recommended_pratilipis)[:n]"
   ]
  },
  {
   "cell_type": "markdown",
   "metadata": {
    "_cell_guid": "631befb9-8926-477c-b1c7-b328d97390e3",
    "_uuid": "dd661c4c-48b3-4882-9a97-9e61ebe7c3b1",
    "collapsed": false,
    "jupyter": {
     "outputs_hidden": false
    }
   },
   "source": [
    "## Hybrid Model (SVD + XGBoost)"
   ]
  },
  {
   "cell_type": "code",
   "execution_count": 21,
   "metadata": {
    "_cell_guid": "00711da5-9bf2-41cf-b165-e4513a64f242",
    "_uuid": "494add3e-44d2-4e88-b989-098c0e663acf",
    "collapsed": false,
    "jupyter": {
     "outputs_hidden": false
    }
   },
   "outputs": [],
   "source": [
    "param_grid = {\n",
    "    'n_estimators': [50, 100, 200],\n",
    "    'max_depth': [3, 5, 7],\n",
    "    'learning_rate': [0.01, 0.1, 0.2],\n",
    "    'subsample': [0.8, 1.0],\n",
    "    'colsample_bytree': [0.8, 1.0],\n",
    "    'gamma': [0, 0.1, 0.2],\n",
    "    'min_child_weight': [1, 5, 10]\n",
    "}"
   ]
  },
  {
   "cell_type": "code",
   "execution_count": null,
   "metadata": {
    "_cell_guid": "495f3c7c-90cf-4d7f-ae7d-3b4cd6f6ff8e",
    "_uuid": "3daa9e1f-73d4-4ba6-9579-b99060699959",
    "collapsed": false,
    "jupyter": {
     "outputs_hidden": false
    }
   },
   "outputs": [
    {
     "name": "stderr",
     "output_type": "stream",
     "text": [
      "C:\\Users\\DELL\\AppData\\Local\\Temp\\ipykernel_14852\\2413493039.py:4: SettingWithCopyWarning: \n",
      "A value is trying to be set on a copy of a slice from a DataFrame.\n",
      "Try using .loc[row_indexer,col_indexer] = value instead\n",
      "\n",
      "See the caveats in the documentation: https://pandas.pydata.org/pandas-docs/stable/user_guide/indexing.html#returning-a-view-versus-a-copy\n",
      "  train_interactions['pratilipi_id_encoded'] = LabelEncoder().fit_transform(train_interactions['pratilipi_id'])\n"
     ]
    }
   ],
   "source": [
    "# merge meta_data with item_factors(svd)\n",
    "pratilipi_features = meta_df.merge(item_factors, left_on=\"pratilipi_id\", right_index=True, how=\"left\").fillna(0)\n",
    "\n",
    "train_interactions['pratilipi_id_encoded'] = LabelEncoder().fit_transform(train_interactions['pratilipi_id'])\n",
    "X_train = train_interactions.merge(pratilipi_features, on='pratilipi_id', how='inner')\n",
    "\n",
    "columns_to_drop = ['pratilipi_id', 'updated_at_x', 'published_at','updated_at_y', 'category_name', 'author_id']\n",
    "X_train = X_train.drop(columns=[col for col in columns_to_drop if col in X_train.columns])\n",
    "\n",
    "# categorical columns to 'category' type\n",
    "X_train['category_encoded'] = X_train['category_encoded'].astype('category')\n",
    "X_train['author_encoded'] = X_train['author_encoded'].astype('category')\n",
    "\n",
    "y_train = X_train['read_percent']\n",
    "train_group = X_train.groupby(\"user_id\").size().values\n",
    "\n",
    "# Initialize and fit XGBRanker\n",
    "xgb_ranker = XGBRanker(\n",
    "    objective=\"rank:pairwise\",tree_method='gpu_hist', enable_categorical=True,\n",
    "    n_estimators = 100, max_depth = 5, learning_rate = 0.1, gamma = 0.1\n",
    ")\n",
    "\n",
    "# grid_search = GridSearchCV(estimator=xgb_ranker, param_grid=param_grid, scoring='neg_mean_squared_error', cv=3, verbose=1)\n",
    "# grid_search.fit(X_train.drop(columns=['read_percent']), y_train, group=train_group)\n",
    "\n",
    "xgb_ranker.fit(X_train.drop(columns=['read_percent']), y_train, group=train_group)"
   ]
  },
  {
   "cell_type": "code",
   "execution_count": null,
   "metadata": {
    "_cell_guid": "f74ebf95-2036-4fa8-ba85-dde724116f13",
    "_uuid": "8a9cf02f-fd14-4178-8318-343e408af174",
    "collapsed": false,
    "jupyter": {
     "outputs_hidden": false
    }
   },
   "outputs": [],
   "source": [
    "def recommend_hybrid(user_id, n=5):\n",
    "    # recommendations from SVD\n",
    "    svd_recs = recommend_svd(user_id, n * 2)  # get more recommendations to rank later\n",
    "    \n",
    "    # Filter out recommendations that are not in meta_df\n",
    "    valid_recs = [rec for rec in svd_recs if rec in meta_df['pratilipi_id'].values]\n",
    "    \n",
    "    if not valid_recs:\n",
    "        return recommend_popular(user_id, n)\n",
    "    \n",
    "    # Select features for valid recommendations\n",
    "    X_input = pratilipi_features.loc[pratilipi_features['pratilipi_id'].isin(valid_recs)].copy()\n",
    "    \n",
    "    X_input['user_id'] = user_id \n",
    "    \n",
    "    # Encode pratilipi_id for the current recommendations\n",
    "    X_input['pratilipi_id_encoded'] = LabelEncoder().fit_transform(X_input['pratilipi_id'])\n",
    "    \n",
    "    required_features = ['user_id', 'pratilipi_id_encoded', 'reading_time', \n",
    "                         'num_users_read', 'recency', 'category_encoded', \n",
    "                         'author_encoded', 'author_popularity'] + list(item_factors.columns)\n",
    "    \n",
    "    X_input = X_input[required_features]\n",
    "    ranking_scores = xgb_ranker.predict(X_input)\n",
    "    \n",
    "    #ranking_scores = best_xgb_ranker.predict(X_input)\n",
    "    \n",
    "    ranked_recs = [x for _, x in sorted(zip(ranking_scores, valid_recs), reverse=True)]\n",
    "    \n",
    "    return ranked_recs[:n]"
   ]
  },
  {
   "cell_type": "markdown",
   "metadata": {
    "_cell_guid": "774c6f33-5ee7-463e-8e3b-a1445f88371c",
    "_uuid": "975a7fef-a189-47ba-b105-ce651414ac3f",
    "collapsed": false,
    "jupyter": {
     "outputs_hidden": false
    }
   },
   "source": [
    "## Model Evaluation"
   ]
  },
  {
   "cell_type": "code",
   "execution_count": null,
   "metadata": {
    "_cell_guid": "9bac0c44-e8de-4650-a628-b6030d53b68a",
    "_uuid": "aa9d9d44-7c86-493f-b47a-edf317df509d",
    "collapsed": false,
    "jupyter": {
     "outputs_hidden": false
    }
   },
   "outputs": [],
   "source": [
    "def evaluate_model(model_func, test_users, k=5):\n",
    "    precision_scores = []\n",
    "    recall_scores = []\n",
    "    ndcg_scores = []\n",
    "    mrr_scores = []\n",
    "    \n",
    "    for user in test_users:\n",
    "        ground_truth = test_interactions[test_interactions['user_id'] == user]['pratilipi_id'].tolist()\n",
    "        recommendations = model_func(user, n=k)\n",
    "\n",
    "        prec = precision_at_k(recommendations, ground_truth, k)\n",
    "        precision_scores.append(prec)\n",
    "        rec = recall_at_k(recommendations, ground_truth, k)\n",
    "        recall_scores.append(rec)\n",
    "        ndcg = ndcg_at_k(recommendations, ground_truth, k)\n",
    "        ndcg_scores.append(ndcg)\n",
    "        mrr_sc = mrr(recommendations, ground_truth)\n",
    "        mrr_scores.append(mrr_sc)\n",
    "        \n",
    "        #print(prec, rec, ndcg, mrr_sc)\n",
    "    \n",
    "    return {\n",
    "        \"Precision@K\": np.mean(precision_scores),\n",
    "        \"Recall@K\": np.mean(recall_scores),\n",
    "        \"NDCG@K\": np.mean(ndcg_scores),\n",
    "        \"MRR\": np.mean(mrr_scores)\n",
    "    }"
   ]
  },
  {
   "cell_type": "code",
   "execution_count": null,
   "metadata": {
    "_cell_guid": "5918ac0b-896a-4e49-86d7-634ca3e344fc",
    "_uuid": "3d5bf16f-e024-406d-b9e1-255911866871",
    "collapsed": false,
    "jupyter": {
     "outputs_hidden": false
    }
   },
   "outputs": [],
   "source": [
    "# Evaluate All Models\n",
    "test_users = test_interactions['user_id'].unique()[:100]"
   ]
  },
  {
   "cell_type": "code",
   "execution_count": 32,
   "metadata": {},
   "outputs": [
    {
     "name": "stdout",
     "output_type": "stream",
     "text": [
      "Popularity Model: {'Precision@K': 0.0, 'Recall@K': 0.0, 'NDCG@K': 0.0, 'MRR': 0.0}\n"
     ]
    }
   ],
   "source": [
    "print(f\"Popularity Model: {evaluate_model(recommend_popular, test_users, 5)}\")"
   ]
  },
  {
   "cell_type": "code",
   "execution_count": 33,
   "metadata": {},
   "outputs": [
    {
     "name": "stdout",
     "output_type": "stream",
     "text": [
      "Content-Based Model: {'Precision@K': 0.0, 'Recall@K': 0.0, 'NDCG@K': 0.0, 'MRR': 0.0}\n"
     ]
    }
   ],
   "source": [
    "print(f\"Content-Based Model: {evaluate_model(recommend_content, test_users, 5)}\")"
   ]
  },
  {
   "cell_type": "code",
   "execution_count": null,
   "metadata": {},
   "outputs": [],
   "source": [
    "print(f\"Collaborative Model (SVD): {evaluate_model(recommend_svd, test_users, 5)}\")"
   ]
  },
  {
   "cell_type": "code",
   "execution_count": null,
   "metadata": {},
   "outputs": [],
   "source": [
    "print(f\"Hybrid Model (SVD + XGBoost): {evaluate_model(recommend_hybrid, test_users, 5)}\")"
   ]
  },
  {
   "cell_type": "markdown",
   "metadata": {
    "_cell_guid": "1ea4a990-36a3-4bd2-903d-0ee57be1e08a",
    "_uuid": "6de96f33-dfad-4063-ba10-7095d9d2c4bc",
    "collapsed": false,
    "jupyter": {
     "outputs_hidden": false
    }
   },
   "source": [
    "## Example Usage"
   ]
  },
  {
   "cell_type": "code",
   "execution_count": null,
   "metadata": {
    "_cell_guid": "bb5ef2e2-509f-4034-845a-7268e209dbd7",
    "_uuid": "e61c34ad-8943-4781-af95-c14f713ba433",
    "collapsed": false,
    "jupyter": {
     "outputs_hidden": false
    }
   },
   "outputs": [],
   "source": [
    "def recommend_for_user(user_id, model_func, n=5):\n",
    "    array = model_func(user_id, n)\n",
    "    recommended_df = meta_df[meta_df['pratilipi_id'].isin(array)].copy()\n",
    "    return recommended_df  "
   ]
  },
  {
   "cell_type": "code",
   "execution_count": null,
   "metadata": {
    "_cell_guid": "015a8074-30b5-4444-a9e6-ab03562087f2",
    "_uuid": "712c1306-4332-4435-a36f-8aa3124ac637",
    "collapsed": false,
    "jupyter": {
     "outputs_hidden": false
    }
   },
   "outputs": [],
   "source": [
    "user_id = 5506791979266119\n",
    "model_arr = [recommend_popular, recommend_content, recommend_svd, recommend_hybrid]\n",
    "recommendations = {}\n",
    "\n",
    "for model in model_arr:\n",
    "    recommendations[model.__name__] = recommend_for_user(user_id, model, 5) \n",
    "\n",
    "# ground_truth = test_interactions[test_interactions['user_id'] == user_id]['pratilipi_id'].tolist()\n",
    "# print(\"Ground Truth:\", ground_truth)"
   ]
  },
  {
   "cell_type": "code",
   "execution_count": null,
   "metadata": {},
   "outputs": [],
   "source": [
    "recommendations[\"recommend_popular\"].head(5)"
   ]
  },
  {
   "cell_type": "code",
   "execution_count": null,
   "metadata": {},
   "outputs": [],
   "source": [
    "recommendations[\"recommend_content\"].head(5)"
   ]
  },
  {
   "cell_type": "code",
   "execution_count": null,
   "metadata": {},
   "outputs": [],
   "source": [
    "recommendations[\"recommend_svd\"].head(5)"
   ]
  },
  {
   "cell_type": "code",
   "execution_count": null,
   "metadata": {},
   "outputs": [],
   "source": [
    "recommendations[\"recommend_hybrid\"].head(5)"
   ]
  },
  {
   "cell_type": "code",
   "execution_count": null,
   "metadata": {},
   "outputs": [],
   "source": []
  }
 ],
 "metadata": {
  "kaggle": {
   "accelerator": "nvidiaTeslaT4",
   "dataSources": [
    {
     "datasetId": 6733028,
     "sourceId": 10841805,
     "sourceType": "datasetVersion"
    }
   ],
   "dockerImageVersionId": 30919,
   "isGpuEnabled": true,
   "isInternetEnabled": true,
   "language": "python",
   "sourceType": "notebook"
  },
  "kernelspec": {
   "display_name": "Python 3",
   "language": "python",
   "name": "python3"
  },
  "language_info": {
   "codemirror_mode": {
    "name": "ipython",
    "version": 3
   },
   "file_extension": ".py",
   "mimetype": "text/x-python",
   "name": "python",
   "nbconvert_exporter": "python",
   "pygments_lexer": "ipython3",
   "version": "3.12.7"
  }
 },
 "nbformat": 4,
 "nbformat_minor": 4
}
